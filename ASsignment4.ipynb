{
 "cells": [
  {
   "cell_type": "code",
   "execution_count": 1,
   "metadata": {},
   "outputs": [],
   "source": [
    "import pandas as pd"
   ]
  },
  {
   "cell_type": "code",
   "execution_count": 3,
   "metadata": {},
   "outputs": [],
   "source": [
    "list=[{'Year':1990,'Name':'Alice','Department':'HR','Age':25,'Salary':50000},\n",
    "      {'Year':1990,'Name':'Bob','Department':'RD','Age':30,'Salary':48000},\n",
    "      {'Year':1990,'Name':'Charlie','Department':'Admin','Age':45,'Salary':55000},\n",
    "      {'Year':1991,'Name':'Alice','Department':'HR','Age':26,'Salary':52000},\n",
    "      {'Year':1991,'Name':'Bob','Department':'RD','Age':31,'Salary':50000},\n",
    "      {'Year':1991,'Name':'Charlie','Department':'Admin','Age':46,'Salary':60000},\n",
    "      {'Year':1992,'Name':'Alice','Department':'Admin','Age':27,'Salary':60000},\n",
    "      {'Year':1992,'Name':'Bob','Department':'RD','Age':32,'Salary':52000},\n",
    "      {'Year':1992,'Name':'Charlie','Department':'Admin','Age':28,'Salary':62000}]\n",
    "      "
   ]
  },
  {
   "cell_type": "code",
   "execution_count": 4,
   "metadata": {},
   "outputs": [
    {
     "data": {
      "text/plain": [
       "[{'Year': 1990,\n",
       "  'Name': 'Alice',\n",
       "  'Department': 'HR',\n",
       "  'Age': 25,\n",
       "  'Salary': 50000},\n",
       " {'Year': 1990, 'Name': 'Bob', 'Department': 'RD', 'Age': 30, 'Salary': 48000},\n",
       " {'Year': 1990,\n",
       "  'Name': 'Charlie',\n",
       "  'Department': 'Admin',\n",
       "  'Age': 45,\n",
       "  'Salary': 55000},\n",
       " {'Year': 1991,\n",
       "  'Name': 'Alice',\n",
       "  'Department': 'HR',\n",
       "  'Age': 26,\n",
       "  'Salary': 52000},\n",
       " {'Year': 1991, 'Name': 'Bob', 'Department': 'RD', 'Age': 31, 'Salary': 50000},\n",
       " {'Year': 1991,\n",
       "  'Name': 'Charlie',\n",
       "  'Department': 'Admin',\n",
       "  'Age': 46,\n",
       "  'Salary': 60000},\n",
       " {'Year': 1992,\n",
       "  'Name': 'Alice',\n",
       "  'Department': 'Admin',\n",
       "  'Age': 27,\n",
       "  'Salary': 60000},\n",
       " {'Year': 1992, 'Name': 'Bob', 'Department': 'RD', 'Age': 32, 'Salary': 52000},\n",
       " {'Year': 1992,\n",
       "  'Name': 'Charlie',\n",
       "  'Department': 'Admin',\n",
       "  'Age': 28,\n",
       "  'Salary': 62000}]"
      ]
     },
     "execution_count": 4,
     "metadata": {},
     "output_type": "execute_result"
    }
   ],
   "source": [
    "list"
   ]
  },
  {
   "cell_type": "code",
   "execution_count": 5,
   "metadata": {},
   "outputs": [],
   "source": [
    "list1=pd.DataFrame(list)"
   ]
  },
  {
   "cell_type": "code",
   "execution_count": 6,
   "metadata": {},
   "outputs": [
    {
     "data": {
      "text/html": [
       "<div>\n",
       "<style scoped>\n",
       "    .dataframe tbody tr th:only-of-type {\n",
       "        vertical-align: middle;\n",
       "    }\n",
       "\n",
       "    .dataframe tbody tr th {\n",
       "        vertical-align: top;\n",
       "    }\n",
       "\n",
       "    .dataframe thead th {\n",
       "        text-align: right;\n",
       "    }\n",
       "</style>\n",
       "<table border=\"1\" class=\"dataframe\">\n",
       "  <thead>\n",
       "    <tr style=\"text-align: right;\">\n",
       "      <th></th>\n",
       "      <th>Age</th>\n",
       "      <th>Department</th>\n",
       "      <th>Name</th>\n",
       "      <th>Salary</th>\n",
       "      <th>Year</th>\n",
       "    </tr>\n",
       "  </thead>\n",
       "  <tbody>\n",
       "    <tr>\n",
       "      <th>0</th>\n",
       "      <td>25</td>\n",
       "      <td>HR</td>\n",
       "      <td>Alice</td>\n",
       "      <td>50000</td>\n",
       "      <td>1990</td>\n",
       "    </tr>\n",
       "    <tr>\n",
       "      <th>1</th>\n",
       "      <td>30</td>\n",
       "      <td>RD</td>\n",
       "      <td>Bob</td>\n",
       "      <td>48000</td>\n",
       "      <td>1990</td>\n",
       "    </tr>\n",
       "    <tr>\n",
       "      <th>2</th>\n",
       "      <td>45</td>\n",
       "      <td>Admin</td>\n",
       "      <td>Charlie</td>\n",
       "      <td>55000</td>\n",
       "      <td>1990</td>\n",
       "    </tr>\n",
       "    <tr>\n",
       "      <th>3</th>\n",
       "      <td>26</td>\n",
       "      <td>HR</td>\n",
       "      <td>Alice</td>\n",
       "      <td>52000</td>\n",
       "      <td>1991</td>\n",
       "    </tr>\n",
       "    <tr>\n",
       "      <th>4</th>\n",
       "      <td>31</td>\n",
       "      <td>RD</td>\n",
       "      <td>Bob</td>\n",
       "      <td>50000</td>\n",
       "      <td>1991</td>\n",
       "    </tr>\n",
       "    <tr>\n",
       "      <th>5</th>\n",
       "      <td>46</td>\n",
       "      <td>Admin</td>\n",
       "      <td>Charlie</td>\n",
       "      <td>60000</td>\n",
       "      <td>1991</td>\n",
       "    </tr>\n",
       "    <tr>\n",
       "      <th>6</th>\n",
       "      <td>27</td>\n",
       "      <td>Admin</td>\n",
       "      <td>Alice</td>\n",
       "      <td>60000</td>\n",
       "      <td>1992</td>\n",
       "    </tr>\n",
       "    <tr>\n",
       "      <th>7</th>\n",
       "      <td>32</td>\n",
       "      <td>RD</td>\n",
       "      <td>Bob</td>\n",
       "      <td>52000</td>\n",
       "      <td>1992</td>\n",
       "    </tr>\n",
       "    <tr>\n",
       "      <th>8</th>\n",
       "      <td>28</td>\n",
       "      <td>Admin</td>\n",
       "      <td>Charlie</td>\n",
       "      <td>62000</td>\n",
       "      <td>1992</td>\n",
       "    </tr>\n",
       "  </tbody>\n",
       "</table>\n",
       "</div>"
      ],
      "text/plain": [
       "   Age Department     Name  Salary  Year\n",
       "0   25         HR    Alice   50000  1990\n",
       "1   30         RD      Bob   48000  1990\n",
       "2   45      Admin  Charlie   55000  1990\n",
       "3   26         HR    Alice   52000  1991\n",
       "4   31         RD      Bob   50000  1991\n",
       "5   46      Admin  Charlie   60000  1991\n",
       "6   27      Admin    Alice   60000  1992\n",
       "7   32         RD      Bob   52000  1992\n",
       "8   28      Admin  Charlie   62000  1992"
      ]
     },
     "execution_count": 6,
     "metadata": {},
     "output_type": "execute_result"
    }
   ],
   "source": [
    "list1"
   ]
  },
  {
   "cell_type": "code",
   "execution_count": 8,
   "metadata": {},
   "outputs": [
    {
     "data": {
      "text/plain": [
       "Year\n",
       "1990    153000\n",
       "1991    162000\n",
       "1992    174000\n",
       "Name: Salary, dtype: int64"
      ]
     },
     "execution_count": 8,
     "metadata": {},
     "output_type": "execute_result"
    }
   ],
   "source": [
    "list1.groupby(['Year'])['Salary'].sum()"
   ]
  },
  {
   "cell_type": "code",
   "execution_count": 9,
   "metadata": {},
   "outputs": [
    {
     "data": {
      "text/plain": [
       "Name\n",
       "Alice      162000\n",
       "Bob        150000\n",
       "Charlie    177000\n",
       "Name: Salary, dtype: int64"
      ]
     },
     "execution_count": 9,
     "metadata": {},
     "output_type": "execute_result"
    }
   ],
   "source": [
    "list1.groupby(['Name'])['Salary'].sum()"
   ]
  },
  {
   "cell_type": "code",
   "execution_count": 10,
   "metadata": {},
   "outputs": [
    {
     "data": {
      "text/plain": [
       "Year  Department\n",
       "1990  Admin          55000\n",
       "      HR             50000\n",
       "      RD             48000\n",
       "1991  Admin          60000\n",
       "      HR             52000\n",
       "      RD             50000\n",
       "1992  Admin         122000\n",
       "      RD             52000\n",
       "Name: Salary, dtype: int64"
      ]
     },
     "execution_count": 10,
     "metadata": {},
     "output_type": "execute_result"
    }
   ],
   "source": [
    "list1.groupby(['Year','Department'])['Salary'].sum()"
   ]
  },
  {
   "cell_type": "code",
   "execution_count": null,
   "metadata": {},
   "outputs": [],
   "source": []
  }
 ],
 "metadata": {
  "kernelspec": {
   "display_name": "Python 3",
   "language": "python",
   "name": "python3"
  },
  "language_info": {
   "codemirror_mode": {
    "name": "ipython",
    "version": 3
   },
   "file_extension": ".py",
   "mimetype": "text/x-python",
   "name": "python",
   "nbconvert_exporter": "python",
   "pygments_lexer": "ipython3",
   "version": "3.7.3"
  }
 },
 "nbformat": 4,
 "nbformat_minor": 2
}
